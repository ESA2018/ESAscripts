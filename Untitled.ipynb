{
 "cells": [
  {
   "cell_type": "code",
   "execution_count": null,
   "metadata": {},
   "outputs": [],
   "source": [
    "# 101ZDJK_ACT_est_corr_unthresh_mat.npy - reference of the file naming"
   ]
  },
  {
   "cell_type": "code",
   "execution_count": null,
   "metadata": {},
   "outputs": [],
   "source": [
    "import shutil\n",
    "import numpy as np\n",
    "\n",
    "\n",
    "\n",
    "# loading SOMNET unthresholded npy matrices \n",
    "shutil.copyfile(file, '/DATAa/SOMNET/Analysis/MNI/) for file in glob.glob('/DATAa/SOMNET/Analysis/MNI/*/harv_suit/*_ACT_est_corr_unthresh_mat.npy')]\n",
    "\n",
    "\n",
    "shutil.copyfile('/Users/datagy/Desktop/file.py', '/Users/datagy/Desktop/file2.py')\n"
   ]
  }
 ],
 "metadata": {
  "kernelspec": {
   "display_name": "Python 3",
   "language": "python",
   "name": "python3"
  },
  "language_info": {
   "codemirror_mode": {
    "name": "ipython",
    "version": 3
   },
   "file_extension": ".py",
   "mimetype": "text/x-python",
   "name": "python",
   "nbconvert_exporter": "python",
   "pygments_lexer": "ipython3",
   "version": "3.8.10"
  }
 },
 "nbformat": 4,
 "nbformat_minor": 4
}
