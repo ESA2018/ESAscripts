{
 "cells": [
  {
   "cell_type": "code",
   "execution_count": 1,
   "metadata": {},
   "outputs": [],
   "source": [
    "import os"
   ]
  },
  {
   "cell_type": "code",
   "execution_count": 2,
   "metadata": {},
   "outputs": [
    {
     "data": {
      "text/plain": [
       "'/data/neuro/SOMNET/Analysis_GLM/.resources/time-series'"
      ]
     },
     "execution_count": 2,
     "metadata": {},
     "output_type": "execute_result"
    }
   ],
   "source": [
    "os.getcwd()"
   ]
  },
  {
   "cell_type": "code",
   "execution_count": 5,
   "metadata": {},
   "outputs": [],
   "source": [
    "os.chdir('/data/neuro/SOMNET/Analysis_GLM')"
   ]
  },
  {
   "cell_type": "code",
   "execution_count": 6,
   "metadata": {},
   "outputs": [
    {
     "name": "stdout",
     "output_type": "stream",
     "text": [
      "/data/neuro/SOMNET/Analysis_GLM\n"
     ]
    }
   ],
   "source": [
    "print(os.getcwd())"
   ]
  },
  {
   "cell_type": "code",
   "execution_count": 15,
   "metadata": {},
   "outputs": [
    {
     "name": "stdout",
     "output_type": "stream",
     "text": [
      "/data/neuro/SOMNET/Analysis_GLM\n"
     ]
    }
   ],
   "source": [
    "location = (os.getcwd())\n",
    "print(location)\n",
    "\n"
   ]
  },
  {
   "cell_type": "code",
   "execution_count": 35,
   "metadata": {
    "collapsed": true
   },
   "outputs": [
    {
     "name": "stdout",
     "output_type": "stream",
     "text": [
      "/data/neuro/SOMNET/Analysis_GLM/1st-level_preproc-bet-MNI_246VWYM_newnormal_cFUN+.feat\n",
      "/data/neuro/SOMNET/Analysis_GLM/1st-level_preproc-bet-MNI_125VELE_newnormal_cFUN+.feat\n",
      "/data/neuro/SOMNET/Analysis_GLM/1st-level_preproc-bet-MNI_131DZCJ_newnormal_cFUN+.feat\n",
      "/data/neuro/SOMNET/Analysis_GLM/1st-level_preproc-bet-MNI_101ZDJK_newnormal_cFUN+.feat\n",
      "/data/neuro/SOMNET/Analysis_GLM/1st-level_preproc-bet-MNI_103QRRQ_newnormal_cFUN+.feat\n",
      "/data/neuro/SOMNET/Analysis_GLM/1st-level_preproc-bet-MNI_138ALVT_newnormal_cFUN+.feat\n",
      "/data/neuro/SOMNET/Analysis_GLM/1st-level_preproc-bet-MNI_123HVQV_newnormal_cFUN+.feat\n",
      "/data/neuro/SOMNET/Analysis_GLM/1st-level_preproc-bet-MNI_129VADA_newnormal_cFUN+.feat\n",
      "/data/neuro/SOMNET/Analysis_GLM/1st-level_preproc-bet-MNI_235VECM_newnormal_cFUN+.feat\n",
      "/data/neuro/SOMNET/Analysis_GLM/1st-level_preproc-bet-MNI_241ACHG_newnormal_cFUN+.feat\n",
      "/data/neuro/SOMNET/Analysis_GLM/1st-level_preproc-bet-MNI_135MKFT_newnormal_cFUN+.feat\n",
      "/data/neuro/SOMNET/Analysis_GLM/1st-level_preproc-bet-MNI_224JMKB_newnormal_cFUN+.feat\n",
      "/data/neuro/SOMNET/Analysis_GLM/1st-level_preproc-bet-MNI_130BWSY_newnormal_cFUN+.feat\n",
      "/data/neuro/SOMNET/Analysis_GLM/1st-level_preproc-bet-MNI_248DOIN_newnormal_cFUN+.feat\n",
      "/data/neuro/SOMNET/Analysis_GLM/1st-level_preproc-bet-MNI_126RLSE_newnormal_cFUN+.feat\n",
      "/data/neuro/SOMNET/Analysis_GLM/1st-level_preproc-bet-MNI_259LAST_newnormal_cFUN+.feat\n",
      "/data/neuro/SOMNET/Analysis_GLM/1st-level_preproc-bet-MNI_230NAJA_newnormal_cFUN+.feat\n",
      "/data/neuro/SOMNET/Analysis_GLM/1st-level_preproc-bet-MNI_133RVGK_newnormal_cFUN+.feat\n",
      "/data/neuro/SOMNET/Analysis_GLM/1st-level_preproc-bet-MNI_210KAGM_newnormal_cFUN+.feat\n",
      "/data/neuro/SOMNET/Analysis_GLM/1st-level_preproc-bet-MNI_121WZJX_newnormal_cFUN+.feat\n",
      "/data/neuro/SOMNET/Analysis_GLM/1st-level_preproc-bet-MNI_124IAFK_newnormal_cFUN+.feat\n",
      "/data/neuro/SOMNET/Analysis_GLM/1st-level_preproc-bet-MNI_242YQDE_newnormal_cFUN+.feat\n",
      "/data/neuro/SOMNET/Analysis_GLM/1st-level_preproc-bet-MNI_136KCLC_newnormal_cFUN+.feat\n",
      "/data/neuro/SOMNET/Analysis_GLM/1st-level_preproc-bet-MNI_137IGVD_newnormal_cFUN+.feat\n",
      "/data/neuro/SOMNET/Analysis_GLM/1st-level_preproc-bet-MNI_231OCAE_newnormal_cFUN+.feat\n",
      "/data/neuro/SOMNET/Analysis_GLM/1st-level_preproc-bet-MNI_127SAKG_newnormal_cFUN+.feat\n",
      "/data/neuro/SOMNET/Analysis_GLM/1st-level_preproc-bet-MNI_111BUVI_newnormal_cFUN+.feat\n",
      "/data/neuro/SOMNET/Analysis_GLM/1st-level_preproc-bet-MNI_250DWKW_newnormal_cFUN+.feat\n",
      "/data/neuro/SOMNET/Analysis_GLM/1st-level_preproc-bet-MNI_225HXDT_newnormal_cFUN+.feat\n",
      "/data/neuro/SOMNET/Analysis_GLM/1st-level_preproc-bet-MNI_236CKGD_newnormal_cFUN+.feat\n",
      "/data/neuro/SOMNET/Analysis_GLM/1st-level_preproc-bet-MNI_209TQDW_newnormal_cFUN+.feat\n",
      "/data/neuro/SOMNET/Analysis_GLM/1st-level_preproc-bet-MNI_244KMKA_newnormal_cFUN+.feat\n",
      "/data/neuro/SOMNET/Analysis_GLM/1st-level_preproc-bet-MNI_205VETE_newnormal_cFUN+.feat\n",
      "/data/neuro/SOMNET/Analysis_GLM/1st-level_preproc-bet-MNI_216NEKS_newnormal_cFUN+.feat\n",
      "/data/neuro/SOMNET/Analysis_GLM/1st-level_preproc-bet-MNI_122KCMC_newnormal_cFUN+.feat\n",
      "/data/neuro/SOMNET/Analysis_GLM/1st-level_preproc-bet-MNI_102WQTE_newnormal_cFUN+.feat\n",
      "/data/neuro/SOMNET/Analysis_GLM/1st-level_preproc-bet-MNI_207JEFX_newnormal_cFUN+.feat\n",
      "/data/neuro/SOMNET/Analysis_GLM/1st-level_preproc-bet-MNI_218CAFS_newnormal_cFUN+.feat\n",
      "/data/neuro/SOMNET/Analysis_GLM/1st-level_preproc-bet-MNI_203SVLW_newnormal_cFUN+.feat\n",
      "/data/neuro/SOMNET/Analysis_GLM/1st-level_preproc-bet-MNI_113WKOM_newnormal_cFUN+.feat\n"
     ]
    }
   ],
   "source": [
    "# create a lists\n",
    "subjdir = []\n",
    "amygdir_in_dir = []\n",
    "\n",
    "# populate list with subject feat dirs\n",
    "for file in os.listdir(location):\n",
    "    if file.endswith(\"_cFUN+.feat\"):\n",
    "        subjdir.append(file)\n",
    "        print(os.path.join(location, file))"
   ]
  },
  {
   "cell_type": "code",
   "execution_count": 19,
   "metadata": {
    "collapsed": true
   },
   "outputs": [
    {
     "name": "stdout",
     "output_type": "stream",
     "text": [
      "['1st-level_preproc-bet-MNI_246VWYM_newnormal_cFUN+.feat', '1st-level_preproc-bet-MNI_125VELE_newnormal_cFUN+.feat', '1st-level_preproc-bet-MNI_131DZCJ_newnormal_cFUN+.feat', '1st-level_preproc-bet-MNI_101ZDJK_newnormal_cFUN+.feat', '1st-level_preproc-bet-MNI_103QRRQ_newnormal_cFUN+.feat', '1st-level_preproc-bet-MNI_138ALVT_newnormal_cFUN+.feat', '1st-level_preproc-bet-MNI_123HVQV_newnormal_cFUN+.feat', '1st-level_preproc-bet-MNI_129VADA_newnormal_cFUN+.feat', '1st-level_preproc-bet-MNI_235VECM_newnormal_cFUN+.feat', '1st-level_preproc-bet-MNI_241ACHG_newnormal_cFUN+.feat', '1st-level_preproc-bet-MNI_135MKFT_newnormal_cFUN+.feat', '1st-level_preproc-bet-MNI_224JMKB_newnormal_cFUN+.feat', '1st-level_preproc-bet-MNI_130BWSY_newnormal_cFUN+.feat', '1st-level_preproc-bet-MNI_248DOIN_newnormal_cFUN+.feat', '1st-level_preproc-bet-MNI_126RLSE_newnormal_cFUN+.feat', '1st-level_preproc-bet-MNI_259LAST_newnormal_cFUN+.feat', '1st-level_preproc-bet-MNI_230NAJA_newnormal_cFUN+.feat', '1st-level_preproc-bet-MNI_133RVGK_newnormal_cFUN+.feat', '1st-level_preproc-bet-MNI_210KAGM_newnormal_cFUN+.feat', '1st-level_preproc-bet-MNI_121WZJX_newnormal_cFUN+.feat', '1st-level_preproc-bet-MNI_124IAFK_newnormal_cFUN+.feat', '1st-level_preproc-bet-MNI_242YQDE_newnormal_cFUN+.feat', '1st-level_preproc-bet-MNI_136KCLC_newnormal_cFUN+.feat', '1st-level_preproc-bet-MNI_137IGVD_newnormal_cFUN+.feat', '1st-level_preproc-bet-MNI_231OCAE_newnormal_cFUN+.feat', '1st-level_preproc-bet-MNI_127SAKG_newnormal_cFUN+.feat', '1st-level_preproc-bet-MNI_111BUVI_newnormal_cFUN+.feat', '1st-level_preproc-bet-MNI_250DWKW_newnormal_cFUN+.feat', '1st-level_preproc-bet-MNI_225HXDT_newnormal_cFUN+.feat', '1st-level_preproc-bet-MNI_236CKGD_newnormal_cFUN+.feat', '1st-level_preproc-bet-MNI_209TQDW_newnormal_cFUN+.feat', '1st-level_preproc-bet-MNI_244KMKA_newnormal_cFUN+.feat', '1st-level_preproc-bet-MNI_205VETE_newnormal_cFUN+.feat', '1st-level_preproc-bet-MNI_216NEKS_newnormal_cFUN+.feat', '1st-level_preproc-bet-MNI_122KCMC_newnormal_cFUN+.feat', '1st-level_preproc-bet-MNI_102WQTE_newnormal_cFUN+.feat', '1st-level_preproc-bet-MNI_207JEFX_newnormal_cFUN+.feat', '1st-level_preproc-bet-MNI_218CAFS_newnormal_cFUN+.feat', '1st-level_preproc-bet-MNI_203SVLW_newnormal_cFUN+.feat', '1st-level_preproc-bet-MNI_113WKOM_newnormal_cFUN+.feat']\n"
     ]
    }
   ],
   "source": [
    "print(subjdir)"
   ]
  },
  {
   "cell_type": "code",
   "execution_count": 41,
   "metadata": {},
   "outputs": [],
   "source": [
    "from pandas import read_csv"
   ]
  },
  {
   "cell_type": "code",
   "execution_count": null,
   "metadata": {},
   "outputs": [],
   "source": [
    "# the cell below does not work because of the definition of the file to write on\n",
    "# I decided to split the process in two: 1 for left- and other for right-AMYG (cells below 80)"
   ]
  },
  {
   "cell_type": "code",
   "execution_count": 80,
   "metadata": {},
   "outputs": [],
   "source": [
    "# creating file to input the first lines of the report file\n",
    "\n",
    "\n",
    "    \n",
    "    # creating a list of paths to left-AMYG-featquery dirs\n",
    "    # r=>root, d=>directories, f=>files\n",
    "for r, d, f in os.walk(location):\n",
    "    for item in d:\n",
    "        if 'left-AMYG-featquery' in item:\n",
    "            lAf = (os.path.join(r, item))\n",
    "            with open(location+\"/featqueryDATA_leftAMYG.txt\", 'w') as fqD_lA:\n",
    "                for r,d,f in os.walk(lAf):\n",
    "                    for file in f:\n",
    "                        if file == \"report.txt\":        \n",
    "                            #print(lAf+\"/\"+file)\n",
    "                            with open(lAf+\"/\"+file) as report:\n",
    "                                firstline = report.readlines()[0].rstrip()\n",
    "                                print(r, firstline, file=fqD_lA)\n",
    "        if 'right-AMYG-featquery' in item:\n",
    "            rAf = (os.path.join(r, item))\n",
    "            with open(location+\"/featqueryDATA_rightAMYG.txt\", 'w') as fqD_rA:\n",
    "                for r,d,f in os.walk(rAf):\n",
    "                    for file in f:\n",
    "                        if file == \"report.txt\":        \n",
    "                            #print(rAf+\"/\"+file)\n",
    "                            with open(rAf+\"/\"+file) as report:\n",
    "                                firstline = report.readlines()[0].rstrip()\n",
    "                                print(r, firstline, file=fqD_rA)                      \n",
    "\n",
    "            \n",
    "            \n",
    "        \n",
    "        \n",
    "\n",
    "        \n",
    "#print(amygdir_in_dir)"
   ]
  },
  {
   "cell_type": "code",
   "execution_count": 84,
   "metadata": {},
   "outputs": [],
   "source": [
    "# creating file to input the first lines of the report file\n",
    "with open(location+\"/featqueryDATA_leftAMYG.txt\", 'w') as fqD_lA:\n",
    "\n",
    "    \n",
    "    # creating a list of paths to left-AMYG-featquery dirs\n",
    "    # r=>root, d=>directories, f=>files\n",
    "    for r, d, f in os.walk(location):\n",
    "        for item in d:\n",
    "            if 'left-AMYG-featquery' in item:\n",
    "                lAf = (os.path.join(r, item))\n",
    "\n",
    "                for r,d,f in os.walk(lAf):\n",
    "                    for file in f:\n",
    "                        if file == \"report.txt\":        \n",
    "                            #print(lAf+\"/\"+file)\n",
    "                            with open(lAf+\"/\"+file) as report:\n",
    "                                firstline = report.readlines()[0].rstrip()\n",
    "                                print(r, firstline, file=fqD_lA)"
   ]
  },
  {
   "cell_type": "code",
   "execution_count": 85,
   "metadata": {},
   "outputs": [],
   "source": [
    "# creating file to input the first lines of the report file\n",
    "with open(location+\"/featqueryDATA_rightAMYG.txt\", 'w') as fqD_rA:\n",
    "\n",
    "    \n",
    "    # creating a list of paths to left-AMYG-featquery dirs\n",
    "    # r=>root, d=>directories, f=>files\n",
    "    for r, d, f in os.walk(location):\n",
    "        for item in d:\n",
    "            if 'right-AMYG-featquery' in item:\n",
    "                rAf = (os.path.join(r, item))\n",
    "\n",
    "                for r,d,f in os.walk(rAf):\n",
    "                    for file in f:\n",
    "                        if file == \"report.txt\":        \n",
    "                            #print(rAf+\"/\"+file)\n",
    "                            with open(rAf+\"/\"+file) as report:\n",
    "                                firstline = report.readlines()[0].rstrip()\n",
    "                                print(r, firstline, file=fqD_rA)"
   ]
  },
  {
   "cell_type": "code",
   "execution_count": null,
   "metadata": {},
   "outputs": [],
   "source": []
  }
 ],
 "metadata": {
  "kernelspec": {
   "display_name": "Python 3",
   "language": "python",
   "name": "python3"
  },
  "language_info": {
   "codemirror_mode": {
    "name": "ipython",
    "version": 3
   },
   "file_extension": ".py",
   "mimetype": "text/x-python",
   "name": "python",
   "nbconvert_exporter": "python",
   "pygments_lexer": "ipython3",
   "version": "3.7.1"
  }
 },
 "nbformat": 4,
 "nbformat_minor": 2
}
